{
  "nbformat": 4,
  "nbformat_minor": 0,
  "metadata": {
    "colab": {
      "provenance": [],
      "authorship_tag": "ABX9TyMmdnSOUsBMPV14SklGDOoS",
      "include_colab_link": true
    },
    "kernelspec": {
      "name": "python3",
      "display_name": "Python 3"
    },
    "language_info": {
      "name": "python"
    }
  },
  "cells": [
    {
      "cell_type": "markdown",
      "metadata": {
        "id": "view-in-github",
        "colab_type": "text"
      },
      "source": [
        "<a href=\"https://colab.research.google.com/github/gentelmen-iz-bpi2301/-/blob/main/Untitled5.ipynb\" target=\"_parent\"><img src=\"https://colab.research.google.com/assets/colab-badge.svg\" alt=\"Open In Colab\"/></a>"
      ]
    },
    {
      "cell_type": "code",
      "execution_count": 1,
      "metadata": {
        "id": "3FCaxYro1ORB"
      },
      "outputs": [],
      "source": [
        "class Stack:\n",
        "    def __init__(self):\n",
        "        self.items = []\n",
        "\n",
        "    def is_empty(self):\n",
        "        return len(self.items) == 0\n",
        "\n",
        "    def push(self, item):\n",
        "        self.items.append(item)\n",
        "\n",
        "    def pop(self):\n",
        "        if self.is_empty():\n",
        "            raise IndexError(\"Pop from empty stack\")\n",
        "        return self.items.pop()\n",
        "\n",
        "class Deque:\n",
        "    def __init__(self):\n",
        "        self.items = []\n",
        "\n",
        "    def is_empty(self):\n",
        "        return len(self.items) == 0\n",
        "\n",
        "    def add_front(self, item):\n",
        "        self.items.insert(0, item)\n",
        "\n",
        "    def add_rear(self, item):\n",
        "        self.items.append(item)\n",
        "\n",
        "    def remove_front(self):\n",
        "        if self.is_empty():\n",
        "            raise IndexError(\"Remove from empty deque\")\n",
        "        return self.items.pop(0)\n",
        "\n",
        "    def remove_rear(self):\n",
        "        if self.is_empty():\n",
        "            raise IndexError(\"Remove from empty deque\")\n",
        "        return self.items.pop()"
      ]
    },
    {
      "cell_type": "code",
      "source": [
        "def sort_books_with_deques(input_file, output_file):\n",
        "    deque1 = Deque()\n",
        "    deque2 = Deque()\n",
        "\n",
        "    with open(input_file, 'r', encoding='utf-8') as file:\n",
        "        for line in file:\n",
        "            deque1.add_rear(line.strip())\n",
        "\n",
        "    while not deque1.is_empty():\n",
        "        current_book = deque1.remove_front()\n",
        "        while not deque2.is_empty():\n",
        "            last_book = deque2.remove_rear()\n",
        "            if current_book >= last_book:\n",
        "                deque2.add_rear(last_book)\n",
        "                break\n",
        "            deque1.add_front(last_book)\n",
        "        deque2.add_rear(current_book)\n",
        "\n",
        "    with open(output_file, 'w', encoding='utf-8') as file:\n",
        "        while not deque2.is_empty():\n",
        "            book = deque2.remove_front()\n",
        "            file.write(book + '\\n')\n",
        "            print(book)\n",
        "\n",
        "sort_books_with_deques(\"1_books.txt\", \"1_sorted_books.txt\")"
      ],
      "metadata": {
        "colab": {
          "base_uri": "https://localhost:8080/"
        },
        "id": "hXv3Upvz1W_J",
        "outputId": "66c25d5a-00bd-4b71-fca7-009ab6929587"
      },
      "execution_count": 2,
      "outputs": [
        {
          "output_type": "stream",
          "name": "stdout",
          "text": [
            "Анна Каренина\n",
            "Война и мир\n",
            "Двенадцать стульев\n",
            "Доктор Живаго\n",
            "Идиот\n",
            "Мастер и Маргарита\n",
            "Обломов\n",
            "Отцы и дети\n",
            "Преступление и наказание\n",
            "Три товарища\n"
          ]
        }
      ]
    },
    {
      "cell_type": "code",
      "source": [
        "def decrypt_message(encoded_file, output_file, deque):\n",
        "    encoded = Deque()\n",
        "    with open(encoded_file, 'r', encoding='utf-8') as file:\n",
        "        for line in file:\n",
        "            for char in line:\n",
        "                encoded.add_rear(char)\n",
        "\n",
        "    decoded = Deque()\n",
        "    while not encoded.is_empty():\n",
        "        encoded_char = encoded.remove_front()\n",
        "        while True:\n",
        "            current_char = deque.remove_front()\n",
        "            deque.add_rear(current_char)\n",
        "            if current_char == encoded_char:\n",
        "                temp1 = deque.remove_rear()\n",
        "                temp2 = deque.remove_rear()\n",
        "                decoded_char = deque.remove_rear()\n",
        "\n",
        "                decoded.add_rear(decoded_char)\n",
        "\n",
        "                deque.add_rear(decoded_char)\n",
        "                deque.add_rear(temp2)\n",
        "                deque.add_rear(temp1)\n",
        "                break\n",
        "\n",
        "    with open(output_file, 'w', encoding='utf-8') as file:\n",
        "        string = \"\"\n",
        "        while not decoded.is_empty():\n",
        "            string += decoded.remove_front()\n",
        "        file.write(string)\n",
        "        print(string)\n",
        "\n",
        "deque = Deque()\n",
        "deque.add_rear('A')\n",
        "deque.add_rear('B')\n",
        "deque.add_rear('C')\n",
        "deque.add_rear('D')\n",
        "\n",
        "decrypt_message(\"2_encoded.txt\", \"2_decoded.txt\", deque)"
      ],
      "metadata": {
        "colab": {
          "base_uri": "https://localhost:8080/"
        },
        "id": "Idf2hQ1A1bV7",
        "outputId": "ca8bc38d-bb0f-4492-aa18-97a2237a0ca4"
      },
      "execution_count": 14,
      "outputs": [
        {
          "output_type": "stream",
          "name": "stdout",
          "text": [
            "ABCD\n"
          ]
        }
      ]
    },
    {
      "cell_type": "code",
      "source": [
        "def move_disks(n, source, target, extra, source_name, target_name, extra_name, moves):\n",
        "    if n == 1:\n",
        "        disk = source.pop()\n",
        "        target.push(disk)\n",
        "        moves.append(f\"Переместить диск {disk} с {source_name} на {target_name}\")\n",
        "        return\n",
        "\n",
        "    move_disks(n - 1, source, extra, target, source_name, extra_name, target_name, moves)\n",
        "    move_disks(1, source, target, extra, source_name, target_name, extra_name, moves)\n",
        "    move_disks(n - 1, extra, target, source, extra_name, target_name, source_name, moves)\n",
        "\n",
        "def hanoi_solver(input_file, output_file):\n",
        "    A = Stack()\n",
        "    with open(input_file, 'r', encoding='utf-8') as file:\n",
        "        n = 0\n",
        "        for line in file:\n",
        "            n += 1\n",
        "            A.push(int(line.strip()))\n",
        "\n",
        "    B = Stack()\n",
        "    C = Stack()\n",
        "    moves = []\n",
        "\n",
        "    move_disks(n, A, C, B, \"A\", \"C\", \"B\", moves)\n",
        "\n",
        "    with open(output_file, 'w', encoding='utf-8') as file:\n",
        "        for move in moves:\n",
        "            file.write(move + '\\n')\n",
        "    print(C.items)\n",
        "\n",
        "hanoi_solver(\"3_input.txt\", \"3_output.txt\")"
      ],
      "metadata": {
        "colab": {
          "base_uri": "https://localhost:8080/"
        },
        "id": "21A_LLSm1e07",
        "outputId": "39baf6cc-db34-4937-a770-db7f3cf6cd2e"
      },
      "execution_count": 4,
      "outputs": [
        {
          "output_type": "stream",
          "name": "stdout",
          "text": [
            "[12, 9, 8, 5, 2]\n"
          ]
        }
      ]
    },
    {
      "cell_type": "code",
      "source": [
        "def check_parentheses_balance(file_path):\n",
        "    stack = Stack()\n",
        "\n",
        "    with open(file_path, 'r', encoding='utf-8') as file:\n",
        "        for line in file:\n",
        "            for char in line:\n",
        "                if char == '(':\n",
        "                    stack.push(char)\n",
        "                elif char == ')':\n",
        "                    if stack.is_empty():\n",
        "                        return \"Ошибка: лишняя закрывающая скобка\"\n",
        "                    stack.pop()\n",
        "\n",
        "    if stack.is_empty():\n",
        "        return \"Баланс скобок соблюден\"\n",
        "    else:\n",
        "        return \"Ошибка: не хватает закрывающих скобок\"\n",
        "\n",
        "result = check_parentheses_balance(\"4_program.txt\")\n",
        "with open(\"4_result.txt\", 'w', encoding='utf-8') as file:\n",
        "        file.write(result)\n",
        "print(result)"
      ],
      "metadata": {
        "colab": {
          "base_uri": "https://localhost:8080/"
        },
        "id": "qLdPyKp91hEz",
        "outputId": "07990812-6ace-4e89-f4e6-73cc35690edc"
      },
      "execution_count": 5,
      "outputs": [
        {
          "output_type": "stream",
          "name": "stdout",
          "text": [
            "Баланс скобок соблюден\n"
          ]
        }
      ]
    },
    {
      "cell_type": "code",
      "source": [
        "def check_brackets_balance(file_path):\n",
        "    deque = Deque()\n",
        "\n",
        "    with open(file_path, 'r', encoding='utf-8') as file:\n",
        "        for line in file:\n",
        "            for char in line:\n",
        "                if char == '[':\n",
        "                    deque.add_rear(char)\n",
        "                elif char == ']':\n",
        "                    if deque.is_empty():\n",
        "                        return \"Ошибка: лишняя закрывающая скобка\"\n",
        "                    deque.remove_rear()\n",
        "\n",
        "    if deque.is_empty():\n",
        "        return \"Баланс скобок соблюден\"\n",
        "    else:\n",
        "        return \"Ошибка: не хватает закрывающих скобок\"\n",
        "\n",
        "result = check_brackets_balance(\"5_program.txt\")\n",
        "with open(\"5_result.txt\", 'w', encoding='utf-8') as file:\n",
        "        file.write(result)\n",
        "print(result)"
      ],
      "metadata": {
        "colab": {
          "base_uri": "https://localhost:8080/"
        },
        "id": "tWveXHJk1jKO",
        "outputId": "ba7c3ef8-1637-4b6a-b88a-48637aa4fc85"
      },
      "execution_count": 6,
      "outputs": [
        {
          "output_type": "stream",
          "name": "stdout",
          "text": [
            "Баланс скобок соблюден\n"
          ]
        }
      ]
    },
    {
      "cell_type": "code",
      "source": [
        "def process_file(file_path):\n",
        "    letters = Stack()\n",
        "    others = Stack()\n",
        "    result = \"\"\n",
        "\n",
        "    with open(file_path, 'r', encoding='utf-8') as file:\n",
        "        for line in file:\n",
        "            for char in line:\n",
        "                if char.isdigit():\n",
        "                    result += char\n",
        "                elif char.isalpha():\n",
        "                    letters.push(char)\n",
        "                else:\n",
        "                    others.push(char)\n",
        "\n",
        "    cnt = 0\n",
        "    while not letters.is_empty():\n",
        "        cnt += 1\n",
        "        others.push(letters.pop())\n",
        "    for _ in range(cnt):\n",
        "        result += others.pop()\n",
        "\n",
        "    while not others.is_empty():\n",
        "        letters.push(others.pop())\n",
        "    while not letters.is_empty():\n",
        "        result += letters.pop()\n",
        "\n",
        "    return result\n",
        "\n",
        "result = process_file(\"6_symbols.txt\")\n",
        "print(result)\n",
        "with open(\"6_result.txt\", 'w', encoding='utf-8') as file:\n",
        "        file.write(result)"
      ],
      "metadata": {
        "colab": {
          "base_uri": "https://localhost:8080/"
        },
        "id": "hmdBi9gS1lUa",
        "outputId": "1a1e03f7-744f-4c9a-ed08-36bcc1dd4f10"
      },
      "execution_count": 7,
      "outputs": [
        {
          "output_type": "stream",
          "name": "stdout",
          "text": [
            "123ABC.,!\n"
          ]
        }
      ]
    },
    {
      "cell_type": "code",
      "source": [
        "def reorder_numbers(filename):\n",
        "    deque = Deque()\n",
        "\n",
        "    with open(filename, 'r', encoding='utf-8') as file:\n",
        "        for line in file:\n",
        "            for num in map(int, line.split()):\n",
        "                if num < 0:\n",
        "                    deque.add_front(num)\n",
        "                else:\n",
        "                    deque.add_rear(num)\n",
        "\n",
        "    while not deque.is_empty():\n",
        "        num = deque.remove_rear()\n",
        "        if num < 0 :\n",
        "            print(num)\n",
        "        else:\n",
        "            deque.add_rear(num)\n",
        "            break\n",
        "    while not deque.is_empty():\n",
        "        num = deque.remove_front()\n",
        "        print(num)\n",
        "        with open('7_result.txt', 'w', encoding='utf-8') as file:\n",
        "          file.write(str(num))\n",
        "\n",
        "reorder_numbers('7_numbers.txt')"
      ],
      "metadata": {
        "colab": {
          "base_uri": "https://localhost:8080/"
        },
        "id": "nuivvP_h1nbR",
        "outputId": "d3841eaf-02fc-47a5-d1ee-c4ab8db54e9c"
      },
      "execution_count": 10,
      "outputs": [
        {
          "output_type": "stream",
          "name": "stdout",
          "text": [
            "-3\n",
            "-5\n",
            "-7\n",
            "-12\n",
            "5\n",
            "6\n",
            "11\n",
            "14\n",
            "17\n"
          ]
        }
      ]
    },
    {
      "cell_type": "code",
      "source": [
        "def reverse_lines(input_file):\n",
        "    stack = Stack()\n",
        "\n",
        "\n",
        "    with open(input_file, 'r', encoding='utf-8') as file:\n",
        "        for line in file:\n",
        "            stack.push(line.strip())\n",
        "\n",
        "    result = \"\"\n",
        "    while not stack.is_empty():\n",
        "        result += stack.pop() + \"\\n\"\n",
        "    return result\n",
        "\n",
        "result = reverse_lines(\"8_input.txt\")\n",
        "print(result)\n",
        "with open(\"8_output.txt\", 'w', encoding='utf-8') as file:\n",
        "    file.write(result)"
      ],
      "metadata": {
        "colab": {
          "base_uri": "https://localhost:8080/"
        },
        "id": "DlawDwoc2Jyo",
        "outputId": "c022da45-95a2-46c7-9387-8c31c5d56cc9"
      },
      "execution_count": 11,
      "outputs": [
        {
          "output_type": "stream",
          "name": "stdout",
          "text": [
            "Пятая строка\n",
            "Четвёртая строка\n",
            "Третья строка\n",
            "Вторая строка\n",
            "Первая строка\n",
            "\n"
          ]
        }
      ]
    }
  ]
}